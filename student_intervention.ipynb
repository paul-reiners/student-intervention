{
 "cells": [
  {
   "cell_type": "markdown",
   "metadata": {},
   "source": [
    "# Project 2: Supervised Learning\n",
    "### Building a Student Intervention System"
   ]
  },
  {
   "cell_type": "markdown",
   "metadata": {},
   "source": [
    "## 1. Classification vs Regression\n",
    "\n",
    "Your goal is to identify students who might need early intervention - which type of supervised machine learning problem is this, classification or regression? Why?\n",
    "\n",
    "This is a classification problem.  We need to give a students a label: needs early intervention or doesn't need early intervention.  Those problems in which there are a finite number of possible outputs and they cannot be ordered are classification problems.  Regression problems involve continuous outputs, or, at least, ordinal outputs."
   ]
  },
  {
   "cell_type": "markdown",
   "metadata": {},
   "source": [
    "## 2. Exploring the Data\n",
    "\n",
    "Let's go ahead and read in the student dataset first.\n",
    "\n",
    "_To execute a code cell, click inside it and press **Shift+Enter**._"
   ]
  },
  {
   "cell_type": "code",
   "execution_count": 1,
   "metadata": {
    "collapsed": false
   },
   "outputs": [],
   "source": [
    "# Import libraries\n",
    "import numpy as np\n",
    "import pandas as pd\n",
    "from sklearn.cross_validation import train_test_split\n",
    "import random"
   ]
  },
  {
   "cell_type": "code",
   "execution_count": 2,
   "metadata": {
    "collapsed": false
   },
   "outputs": [
    {
     "name": "stdout",
     "output_type": "stream",
     "text": [
      "Student data read successfully!\n"
     ]
    }
   ],
   "source": [
    "# Set random seed for reproducibility.\n",
    "random.seed(9)\n",
    "\n",
    "# Read student data\n",
    "student_data = pd.read_csv(\"student-data.csv\")\n",
    "print \"Student data read successfully!\""
   ]
  },
  {
   "cell_type": "markdown",
   "metadata": {},
   "source": [
    "Now, can you find out the following facts about the dataset?\n",
    "- Total number of students\n",
    "- Number of students who passed\n",
    "- Number of students who failed\n",
    "- Graduation rate of the class (%)\n",
    "- Number of features"
   ]
  },
  {
   "cell_type": "code",
   "execution_count": 3,
   "metadata": {
    "collapsed": false,
    "scrolled": true
   },
   "outputs": [
    {
     "name": "stdout",
     "output_type": "stream",
     "text": [
      "Total number of students: 395\n",
      "Number of students who passed: 265\n",
      "Number of students who failed: 130\n",
      "Number of features: 30\n",
      "Graduation rate of the class: 67.09%\n"
     ]
    }
   ],
   "source": [
    "n_students = len(student_data)\n",
    "n_features = len(student_data.columns) - 1\n",
    "n_passed = sum(student_data['passed'] == 'yes')\n",
    "n_failed = sum(student_data['passed'] == 'no')\n",
    "grad_rate = 100.0 * n_passed / n_students\n",
    "print \"Total number of students: {}\".format(n_students)\n",
    "print \"Number of students who passed: {}\".format(n_passed)\n",
    "print \"Number of students who failed: {}\".format(n_failed)\n",
    "print \"Number of features: {}\".format(n_features)\n",
    "print \"Graduation rate of the class: {:.2f}%\".format(grad_rate)"
   ]
  },
  {
   "cell_type": "markdown",
   "metadata": {},
   "source": [
    "## 3. Preparing the Data\n",
    "In this section, we will prepare the data for modeling, training and testing.\n",
    "\n",
    "### Identify feature and target columns\n",
    "It is often the case that the data you obtain contains non-numeric features. This can be a problem, as most machine learning algorithms expect numeric data to perform computations with.\n",
    "\n",
    "Let's first separate our data into feature and target columns, and see if any features are non-numeric.<br/>\n",
    "**Note**: For this dataset, the last column (`'passed'`) is the target or label we are trying to predict."
   ]
  },
  {
   "cell_type": "code",
   "execution_count": 4,
   "metadata": {
    "collapsed": false
   },
   "outputs": [
    {
     "name": "stdout",
     "output_type": "stream",
     "text": [
      "Feature column(s):-\n",
      "['school', 'sex', 'age', 'address', 'famsize', 'Pstatus', 'Medu', 'Fedu', 'Mjob', 'Fjob', 'reason', 'guardian', 'traveltime', 'studytime', 'failures', 'schoolsup', 'famsup', 'paid', 'activities', 'nursery', 'higher', 'internet', 'romantic', 'famrel', 'freetime', 'goout', 'Dalc', 'Walc', 'health', 'absences']\n",
      "Target column: passed\n",
      "\n",
      "Feature values:-\n",
      "  school sex  age address famsize Pstatus  Medu  Fedu     Mjob      Fjob  \\\n",
      "0     GP   F   18       U     GT3       A     4     4  at_home   teacher   \n",
      "1     GP   F   17       U     GT3       T     1     1  at_home     other   \n",
      "2     GP   F   15       U     LE3       T     1     1  at_home     other   \n",
      "3     GP   F   15       U     GT3       T     4     2   health  services   \n",
      "4     GP   F   16       U     GT3       T     3     3    other     other   \n",
      "\n",
      "    ...    higher internet  romantic  famrel  freetime goout Dalc Walc health  \\\n",
      "0   ...       yes       no        no       4         3     4    1    1      3   \n",
      "1   ...       yes      yes        no       5         3     3    1    1      3   \n",
      "2   ...       yes      yes        no       4         3     2    2    3      3   \n",
      "3   ...       yes      yes       yes       3         2     2    1    1      5   \n",
      "4   ...       yes       no        no       4         3     2    1    2      5   \n",
      "\n",
      "  absences  \n",
      "0        6  \n",
      "1        4  \n",
      "2       10  \n",
      "3        2  \n",
      "4        4  \n",
      "\n",
      "[5 rows x 30 columns]\n"
     ]
    }
   ],
   "source": [
    "# Extract feature (X) and target (y) columns\n",
    "feature_cols = list(student_data.columns[:-1])  # all columns but last are features\n",
    "target_col = student_data.columns[-1]  # last column is the target/label\n",
    "print \"Feature column(s):-\\n{}\".format(feature_cols)\n",
    "print \"Target column: {}\".format(target_col)\n",
    "\n",
    "X_all = student_data[feature_cols]  # feature values for all students\n",
    "y_all = student_data[target_col]  # corresponding targets/labels\n",
    "print \"\\nFeature values:-\"\n",
    "print X_all.head()  # print the first 5 rows"
   ]
  },
  {
   "cell_type": "markdown",
   "metadata": {},
   "source": [
    "### Preprocess feature columns\n",
    "\n",
    "As you can see, there are several non-numeric columns that need to be converted! Many of them are simply `yes`/`no`, e.g. `internet`. These can be reasonably converted into `1`/`0` (binary) values.\n",
    "\n",
    "Other columns, like `Mjob` and `Fjob`, have more than two values, and are known as _categorical variables_. The recommended way to handle such a column is to create as many columns as possible values (e.g. `Fjob_teacher`, `Fjob_other`, `Fjob_services`, etc.), and assign a `1` to one of them and `0` to all others.\n",
    "\n",
    "These generated columns are sometimes called _dummy variables_, and we will use the [`pandas.get_dummies()`](http://pandas.pydata.org/pandas-docs/stable/generated/pandas.get_dummies.html?highlight=get_dummies#pandas.get_dummies) function to perform this transformation."
   ]
  },
  {
   "cell_type": "code",
   "execution_count": 5,
   "metadata": {
    "collapsed": false
   },
   "outputs": [
    {
     "name": "stdout",
     "output_type": "stream",
     "text": [
      "Processed feature columns (48):-\n",
      "['school_GP', 'school_MS', 'sex_F', 'sex_M', 'age', 'address_R', 'address_U', 'famsize_GT3', 'famsize_LE3', 'Pstatus_A', 'Pstatus_T', 'Medu', 'Fedu', 'Mjob_at_home', 'Mjob_health', 'Mjob_other', 'Mjob_services', 'Mjob_teacher', 'Fjob_at_home', 'Fjob_health', 'Fjob_other', 'Fjob_services', 'Fjob_teacher', 'reason_course', 'reason_home', 'reason_other', 'reason_reputation', 'guardian_father', 'guardian_mother', 'guardian_other', 'traveltime', 'studytime', 'failures', 'schoolsup', 'famsup', 'paid', 'activities', 'nursery', 'higher', 'internet', 'romantic', 'famrel', 'freetime', 'goout', 'Dalc', 'Walc', 'health', 'absences']\n"
     ]
    }
   ],
   "source": [
    "# Preprocess feature columns\n",
    "def preprocess_features(X):\n",
    "    outX = pd.DataFrame(index=X.index)  # output dataframe, initially empty\n",
    "\n",
    "    # Check each column\n",
    "    for col, col_data in X.iteritems():\n",
    "        # If data type is non-numeric, try to replace all yes/no values with 1/0\n",
    "        if col_data.dtype == object:\n",
    "            col_data = col_data.replace(['yes', 'no'], [1, 0])\n",
    "        # Note: This should change the data type for yes/no columns to int\n",
    "\n",
    "        # If still non-numeric, convert to one or more dummy variables\n",
    "        if col_data.dtype == object:\n",
    "            col_data = pd.get_dummies(col_data, prefix=col)  # e.g. 'school' => 'school_GP', 'school_MS'\n",
    "\n",
    "        outX = outX.join(col_data)  # collect column(s) in output dataframe\n",
    "\n",
    "    return outX\n",
    "\n",
    "X_all = preprocess_features(X_all)\n",
    "print \"Processed feature columns ({}):-\\n{}\".format(len(X_all.columns), list(X_all.columns))"
   ]
  },
  {
   "cell_type": "markdown",
   "metadata": {},
   "source": [
    "### Split data into training and test sets\n",
    "\n",
    "So far, we have converted all _categorical_ features into numeric values. In this next step, we split the data (both features and corresponding labels) into training and test sets."
   ]
  },
  {
   "cell_type": "code",
   "execution_count": 6,
   "metadata": {
    "collapsed": false
   },
   "outputs": [
    {
     "name": "stdout",
     "output_type": "stream",
     "text": [
      "Training set: 300 samples\n",
      "Test set: 95 samples\n"
     ]
    }
   ],
   "source": [
    "# First, decide how many training vs test samples you want\n",
    "num_all = student_data.shape[0]  # same as len(student_data)\n",
    "num_train = 300  # about 75% of the data\n",
    "num_test = num_all - num_train\n",
    "\n",
    "# Then, select features (X) and corresponding labels (y) for the training and test sets\n",
    "# Note: Shuffle the data or randomly select samples to avoid any bias due to ordering in the dataset\n",
    "X_train, X_test, y_train, y_test = train_test_split(X_all, y_all, test_size=num_test)\n",
    "print \"Training set: {} samples\".format(X_train.shape[0])\n",
    "print \"Test set: {} samples\".format(X_test.shape[0])\n",
    "# Note: If you need a validation set, extract it from within training data"
   ]
  },
  {
   "cell_type": "markdown",
   "metadata": {},
   "source": [
    "## 4. Training and Evaluating Models\n",
    "Choose 3 supervised learning models that are available in scikit-learn, and appropriate for this problem. For each model:\n",
    "\n",
    "- What are the general applications of this model? What are its strengths and weaknesses?\n",
    "- Given what you know about the data so far, why did you choose this model to apply?\n",
    "- Fit this model to the training data, try to predict labels (for both training and test sets), and measure the F<sub>1</sub> score. Repeat this process with different training set sizes (100, 200, 300), keeping test set constant.\n",
    "\n",
    "Produce a table showing training time, prediction time, F<sub>1</sub> score on training set and F<sub>1</sub> score on test set, for each training set size.\n",
    "\n",
    "Note: You need to produce 3 such tables - one for each model."
   ]
  },
  {
   "cell_type": "code",
   "execution_count": 7,
   "metadata": {
    "collapsed": true
   },
   "outputs": [],
   "source": [
    "import time\n",
    "\n",
    "def train_classifier(clf, X_train, y_train, verbose):\n",
    "    if verbose:\n",
    "        print \"Training {}...\".format(clf.__class__.__name__)\n",
    "    start = time.time()\n",
    "    clf.fit(X_train, y_train)\n",
    "    end = time.time()\n",
    "    training_time = end - start\n",
    "    if verbose:\n",
    "        print \"Done!\\nTraining time (secs): {:.3f}\".format(training_time)\n",
    "    \n",
    "    return training_time\n",
    "\n",
    "from sklearn.metrics import f1_score\n",
    "\n",
    "def predict_labels(clf, features, target, verbose):\n",
    "    if verbose:\n",
    "        print \"Predicting labels using {}...\".format(clf.__class__.__name__)\n",
    "    start = time.time()\n",
    "    y_pred = clf.predict(features)\n",
    "    end = time.time()\n",
    "    prediction_time = end - start\n",
    "    if verbose:\n",
    "        print \"Done!\\nPrediction time (secs): {:.3f}\".format(prediction_time)\n",
    "    return (f1_score(target.values, y_pred, pos_label='yes'), prediction_time)\n",
    "\n",
    "def train_predict(clf, X_train, y_train, X_test, y_test, verbose):\n",
    "    if verbose:\n",
    "        print \"------------------------------------------\"\n",
    "        print \"Training set size: {}\".format(len(X_train))\n",
    "    # Average over several runs as there can be a lot of variability.  It might be good to use cross-validation.\n",
    "    num_trials = 64\n",
    "    total_training_time = 0\n",
    "    total_training_set_score = 0\n",
    "    total_training_prediction_time = 0\n",
    "    total_test_set_score = 0\n",
    "    total_test_prediction_time = 0\n",
    "    for i in range(num_trials):\n",
    "        training_time = train_classifier(clf, X_train, y_train, verbose)\n",
    "        total_training_time += training_time\n",
    "        \n",
    "        training_set_score, training_prediction_time = predict_labels(clf, X_train, y_train, verbose)\n",
    "        total_training_set_score += training_set_score\n",
    "        total_training_prediction_time += training_prediction_time\n",
    "\n",
    "        test_set_score, test_prediction_time = predict_labels(clf, X_test, y_test, verbose)\n",
    "        total_test_set_score += test_set_score\n",
    "        total_test_prediction_time += test_prediction_time\n",
    "\n",
    "    avg_training_time = total_training_time / num_trials\n",
    "    avg_training_set_score = total_training_set_score / num_trials\n",
    "    avg_training_prediction_time = total_training_prediction_time / num_trials\n",
    "    avg_test_set_score = total_test_set_score / num_trials\n",
    "    avg_test_prediction_time = total_test_prediction_time / num_trials\n",
    "\n",
    "    if verbose:\n",
    "        print \"F1 score for training set: {}\".format(avg_training_set_score)\n",
    "    if verbose:\n",
    "        print \"F1 score for test set: {}\".format(avg_test_set_score)\n",
    "\n",
    "    return (avg_training_time, avg_training_set_score, avg_training_prediction_time, avg_test_set_score, \\\n",
    "            avg_test_prediction_time)\n",
    "\n",
    "# Run the helper function above for desired subsets of training data\n",
    "# Note: Keep the test set constant\n",
    "def train_predict_different_training_set_sizes(clf, training_set_sizes):\n",
    "    training_times = []\n",
    "    prediction_times = []\n",
    "    training_set_scores = [] \n",
    "    test_set_scores = []\n",
    "    for training_set_size in training_set_sizes:\n",
    "        sample = np.random.choice(num_train, training_set_size, replace=False)\n",
    "        sample_X_train = X_train.iloc[sample, :]\n",
    "        sample_y_train = y_train.iloc[sample]\n",
    "        training_time, training_set_score, training_prediction_time, test_set_score, test_prediction_time \\\n",
    "            = train_predict(clf, sample_X_train, sample_y_train, X_test, y_test, False)\n",
    "        training_times.append(training_time)\n",
    "        prediction_times.append(training_prediction_time + test_prediction_time)\n",
    "        training_set_scores.append(training_set_score)\n",
    "        test_set_scores.append(test_set_score)\n",
    "    \n",
    "    return (training_times, prediction_times, training_set_scores, test_set_scores)\n",
    "\n",
    "import list_table\n",
    "\n",
    "def create_table(training_set_sizes, training_times, prediction_times, training_set_scores, test_set_scores):\n",
    "    # This method based on article by Caleb Madrigal\n",
    "    #      http://calebmadrigal.com/display-list-as-table-in-ipython-notebook/\n",
    "    table = list_table.ListTable()\n",
    "    table.append([ \\\n",
    "                  'training set size', 'training time (secs)', 'prediction time (secs)', 'F1 score on training set', \\\n",
    "                  'F1 score on test set'])\n",
    "    for i in range(len(training_set_sizes)):\n",
    "        format = \"{:.3f}\"\n",
    "        table.append( \\\n",
    "                     [training_set_sizes[i], format.format(training_times[i]), format.format(prediction_times[i]), \\\n",
    "                      training_set_scores[i], test_set_scores[i]])\n",
    "    return table\n",
    "\n",
    "def analyze_classifier(clf):\n",
    "    # Train a model\n",
    "    # Fit model to training data\n",
    "    _ = train_classifier(clf, X_train, y_train, True)  # note: using entire training set here\n",
    "    #print clf  # you can inspect the learned model by printing it\n",
    "    \n",
    "    print \"------------------------------------------\"\n",
    "\n",
    "    # Predict on training set and compute F1 score\n",
    "    train_f1_score = predict_labels(clf, X_train, y_train, True)[0]\n",
    "    print \"F1 score for training set: {}\".format(train_f1_score)\n",
    "    \n",
    "    print \"------------------------------------------\"\n",
    "\n",
    "    # Predict on test data\n",
    "    print \"F1 score for test set: {}\".format(predict_labels(clf, X_test, y_test, True)[0])\n",
    "    \n",
    "    print \"------------------------------------------\"\n",
    "    \n",
    "training_set_sizes = [100, 200, 300]"
   ]
  },
  {
   "cell_type": "markdown",
   "metadata": {},
   "source": [
    "### Decision Tree\n",
    "\n",
    "- Decision trees are a type of supervised learning that can be used for classification problems.\n",
    "    - Strengths\n",
    "        - Easy to use since little data preparation is needed.  For example, values do not need to be normalized nor do dummy variables need to be created for categorical variables.\n",
    "        - Easy to interpret graphically\n",
    "    - Weaknesses \n",
    "        - Prone to overfitting\n",
    "- A decision tree is a good model to try for this problem since decision tree outputs are humanly comprehensible and could identify specific causes of student failure."
   ]
  },
  {
   "cell_type": "code",
   "execution_count": 8,
   "metadata": {
    "collapsed": false
   },
   "outputs": [
    {
     "name": "stdout",
     "output_type": "stream",
     "text": [
      "Training DecisionTreeClassifier...\n",
      "Done!\n",
      "Training time (secs): 0.003\n",
      "------------------------------------------\n",
      "Predicting labels using DecisionTreeClassifier...\n",
      "Done!\n",
      "Prediction time (secs): 0.000\n",
      "F1 score for training set: 1.0\n",
      "------------------------------------------\n",
      "Predicting labels using DecisionTreeClassifier...\n",
      "Done!\n",
      "Prediction time (secs): 0.000\n",
      "F1 score for test set: 0.719424460432\n",
      "------------------------------------------\n"
     ]
    },
    {
     "data": {
      "text/html": [
       "<table><tr><td>training set size</td><td>training time (secs)</td><td>prediction time (secs)</td><td>F1 score on training set</td><td>F1 score on test set</td></tr><tr><td>100</td><td>0.001</td><td>0.000</td><td>1.0</td><td>0.616634120272</td></tr><tr><td>200</td><td>0.001</td><td>0.000</td><td>1.0</td><td>0.659815114576</td></tr><tr><td>300</td><td>0.002</td><td>0.000</td><td>1.0</td><td>0.732481456936</td></tr></table>"
      ],
      "text/plain": [
       "[['training set size',\n",
       "  'training time (secs)',\n",
       "  'prediction time (secs)',\n",
       "  'F1 score on training set',\n",
       "  'F1 score on test set'],\n",
       " [100, '0.001', '0.000', 1.0, 0.61663412027204878],\n",
       " [200, '0.001', '0.000', 1.0, 0.65981511457628284],\n",
       " [300, '0.002', '0.000', 1.0, 0.73248145693635514]]"
      ]
     },
     "execution_count": 8,
     "metadata": {},
     "output_type": "execute_result"
    }
   ],
   "source": [
    "# Choose a model, import it and instantiate an object\n",
    "from sklearn.tree import DecisionTreeClassifier\n",
    "dt_clf = DecisionTreeClassifier()\n",
    "analyze_classifier(dt_clf)\n",
    "\n",
    "# Train and predict using different training set sizes\n",
    "training_times, prediction_times, training_set_scores, test_set_scores = \\\n",
    "    train_predict_different_training_set_sizes(dt_clf, training_set_sizes)\n",
    "create_table(training_set_sizes, training_times, prediction_times, training_set_scores, test_set_scores)"
   ]
  },
  {
   "cell_type": "markdown",
   "metadata": {},
   "source": [
    "### Support Vector Machine\n",
    "\n",
    "- Support vector machines are a type of supervised learning that can be used for classification problems.\n",
    "    - Strengths\n",
    "        - Work well in complicated domains with a clear margin of separation\n",
    "    - Weaknesses\n",
    "        - Don't work well in large data sets because of cubic computation time\n",
    "        - Don't work well in data sets with lots of noise\n",
    "- I think support vector machines will work well with this data set since it is small and there should not be much noise (that is, all the data should be accurate)."
   ]
  },
  {
   "cell_type": "code",
   "execution_count": 9,
   "metadata": {
    "collapsed": false
   },
   "outputs": [
    {
     "name": "stdout",
     "output_type": "stream",
     "text": [
      "Training SVC...\n",
      "Done!\n",
      "Training time (secs): 0.008\n",
      "------------------------------------------\n",
      "Predicting labels using SVC...\n",
      "Done!\n",
      "Prediction time (secs): 0.007\n",
      "F1 score for training set: 0.871459694989\n",
      "------------------------------------------\n",
      "Predicting labels using SVC...\n",
      "Done!\n",
      "Prediction time (secs): 0.002\n",
      "F1 score for test set: 0.776315789474\n",
      "------------------------------------------\n"
     ]
    },
    {
     "data": {
      "text/html": [
       "<table><tr><td>training set size</td><td>training time (secs)</td><td>prediction time (secs)</td><td>F1 score on training set</td><td>F1 score on test set</td></tr><tr><td>100</td><td>0.001</td><td>0.002</td><td>0.8875</td><td>0.787096774194</td></tr><tr><td>200</td><td>0.003</td><td>0.004</td><td>0.85618729097</td><td>0.781456953642</td></tr><tr><td>300</td><td>0.006</td><td>0.006</td><td>0.871459694989</td><td>0.776315789474</td></tr></table>"
      ],
      "text/plain": [
       "[['training set size',\n",
       "  'training time (secs)',\n",
       "  'prediction time (secs)',\n",
       "  'F1 score on training set',\n",
       "  'F1 score on test set'],\n",
       " [100, '0.001', '0.002', 0.88750000000000095, 0.78709677419354962],\n",
       " [200, '0.003', '0.004', 0.85618729096989921, 0.78145695364238343],\n",
       " [300, '0.006', '0.006', 0.87145969498910625, 0.77631578947368474]]"
      ]
     },
     "execution_count": 9,
     "metadata": {},
     "output_type": "execute_result"
    }
   ],
   "source": [
    "# Choose a model, import it and instantiate an object\n",
    "from sklearn import svm\n",
    "svm_clf = svm.SVC()\n",
    "analyze_classifier(svm_clf)\n",
    "\n",
    "# Train and predict using different training set sizes\n",
    "training_times, prediction_times, training_set_scores, test_set_scores = \\\n",
    "    train_predict_different_training_set_sizes(svm_clf, training_set_sizes)\n",
    "create_table(training_set_sizes, training_times, prediction_times, training_set_scores, test_set_scores)"
   ]
  },
  {
   "cell_type": "markdown",
   "metadata": {},
   "source": [
    "### Logistic Regression\n",
    "\n",
    "- Logistic regression is a type of supervised learning that can be used for classification problems.  Logistic regression is a regression model.\n",
    "    - Strengths\n",
    "        - Fast training\n",
    "        - Linear model\n",
    "    - Weaknesses (see [The Disadvantages of Logistic Regression](http://www.ehow.com/info_8574447_disadvantages-logistic-regression.html) for details)\n",
    "        - Independent observations required\n",
    "        - Overfitting the model\n",
    "- According to the [Microsoft Azure Machine Learning: Algorithm Cheat Sheet](https://azure.microsoft.com/en-us/documentation/articles/machine-learning-algorithm-cheat-sheet/), two-class logistic regression is a good algorithm for two-class classification."
   ]
  },
  {
   "cell_type": "code",
   "execution_count": 10,
   "metadata": {
    "collapsed": false
   },
   "outputs": [
    {
     "name": "stdout",
     "output_type": "stream",
     "text": [
      "Training LogisticRegression...\n",
      "Done!\n",
      "Training time (secs): 0.039\n",
      "------------------------------------------\n",
      "Predicting labels using LogisticRegression...\n",
      "Done!\n",
      "Prediction time (secs): 0.004\n",
      "F1 score for training set: 0.857142857143\n",
      "------------------------------------------\n",
      "Predicting labels using LogisticRegression...\n",
      "Done!\n",
      "Prediction time (secs): 0.001\n",
      "F1 score for test set: 0.695652173913\n",
      "------------------------------------------\n"
     ]
    },
    {
     "data": {
      "text/html": [
       "<table><tr><td>training set size</td><td>training time (secs)</td><td>prediction time (secs)</td><td>F1 score on training set</td><td>F1 score on test set</td></tr><tr><td>100</td><td>0.001</td><td>0.000</td><td>0.909090909091</td><td>0.69696969697</td></tr><tr><td>200</td><td>0.001</td><td>0.000</td><td>0.852233676976</td><td>0.719424460432</td></tr><tr><td>300</td><td>0.003</td><td>0.000</td><td>0.857142857143</td><td>0.695652173913</td></tr></table>"
      ],
      "text/plain": [
       "[['training set size',\n",
       "  'training time (secs)',\n",
       "  'prediction time (secs)',\n",
       "  'F1 score on training set',\n",
       "  'F1 score on test set'],\n",
       " [100, '0.001', '0.000', 0.90909090909090806, 0.69696969696969613],\n",
       " [200, '0.001', '0.000', 0.85223367697594399, 0.71942446043165398],\n",
       " [300, '0.003', '0.000', 0.8571428571428561, 0.69565217391304401]]"
      ]
     },
     "execution_count": 10,
     "metadata": {},
     "output_type": "execute_result"
    }
   ],
   "source": [
    "# Choose a model, import it and instantiate an object\n",
    "from sklearn.linear_model import LogisticRegression\n",
    "lr_clf = LogisticRegression()\n",
    "analyze_classifier(lr_clf)\n",
    "\n",
    "# Train and predict using different training set sizes\n",
    "training_times, prediction_times, training_set_scores, test_set_scores = \\\n",
    "    train_predict_different_training_set_sizes(lr_clf, training_set_sizes)\n",
    "create_table(training_set_sizes, training_times, prediction_times, training_set_scores, test_set_scores)"
   ]
  },
  {
   "cell_type": "markdown",
   "metadata": {},
   "source": [
    "## 5. Choosing the Best Model\n",
    "\n",
    "- Based on the experiments you performed earlier, in 1-2 paragraphs explain to the board of supervisors what single model you chose as the best model. Which model is generally the most appropriate based on the available data, limited resources, cost, and performance?\n",
    "    - Let's compare the performance of all three candidate algorithms (on the test set):\n",
    "    <table>\n",
    "  <tr>\n",
    "    <th>Algorithm</th>\n",
    "    <th>F<sub>1</sub> score</th> \n",
    "    <th>Training time (secs)</th>\n",
    "    <th>Prediction time (secs)</th>\n",
    "  </tr>\n",
    "  <tr>\n",
    "    <td>Decision Tree</td>\n",
    "    <td>0.719424460432</td> \n",
    "    <td>0.003</td>\n",
    "    <td>0.000</td>\n",
    "  </tr>\n",
    "  <tr>\n",
    "    <td>Support Vector Machine</td>\n",
    "    <td>0.776315789474</td> \n",
    "    <td>0.008</td>\n",
    "    <td>0.002</td>\n",
    "  </tr>\n",
    "  <tr>\n",
    "    <td>Logistic Regression</td>\n",
    "    <td>0.695652173913</td> \n",
    "    <td>0.039</td>\n",
    "    <td>0.001</td>\n",
    "  </tr>\n",
    "</table>\n",
    "    Support vector machines get the highest F<sub>1</sub> scores on the test set.  Assuming the cost of using support vector machines is not prohibitively high, it seems to be the best choice.  Training will only need to be done once initially and then probably at the end of each school year as we get more data on whether students pass or fail.  Since training time is only 0.008 seconds, this is a small annual cost.  The test set is 95 and the prediction time on the test set is 0.002 seconds.  Assuming the student population is 1600 (which would be a [large high school](https://nces.ed.gov/pubs2001/overview/table05.asp)), the time to make predictions on each member of the high school population is (0.002 seconds / 95 students) * 1600 students = 0.03 seconds.  This could be run nightly without significant cost.  So support vector machines is the way to go.\n",
    "- In 1-2 paragraphs explain to the board of supervisors in layman's terms how the final model chosen is supposed to work (for example if you chose a Decision Tree or Support Vector Machine, how does it make a prediction).\n",
    "    - A support vector machine is a machine learning algorithm that learns from data you give it on past students and whether they passed or failed.  It does this by finding lines of separation in the feature space between students who pass and students who fail.  It works to find large margins between these two groups.  It can then make predictions on whether current students will pass or fail given data about them.\n",
    "    ![kernel](./img/sv.jpg)\n",
    "    ![kernel](./img/kernel3.jpg)\n",
    "- Fine-tune the model. Use Gridsearch with at least one important parameter tuned and with at least 3 settings. Use the entire training set for this.\n",
    "- What is the model's final F<sub>1</sub> score?"
   ]
  },
  {
   "cell_type": "code",
   "execution_count": 17,
   "metadata": {
    "collapsed": false
   },
   "outputs": [
    {
     "name": "stdout",
     "output_type": "stream",
     "text": [
      "Model's final F1 score (for test set): 0.78431372549\n"
     ]
    }
   ],
   "source": [
    "# Fine-tune your model and report the best F1 score\n",
    "default_gamma = 1.0 / n_features\n",
    "param_grid = {'kernel': ('linear', 'rbf', 'sigmoid', 'poly'), \\\n",
    "              'C': [0.01, 0.1, 1, 10, 100], \\\n",
    "              'gamma': [default_gamma / 10, \\\n",
    "                        default_gamma, \\\n",
    "                        default_gamma * 10, default_gamma * 100]}\n",
    "\n",
    "from sklearn.metrics import f1_score\n",
    "from sklearn.metrics import make_scorer\n",
    "from sklearn.grid_search import GridSearchCV\n",
    "\n",
    "f1_scorer = make_scorer(f1_score, pos_label=\"yes\")\n",
    "grid_search = GridSearchCV(svm_clf, param_grid, scoring=f1_scorer)\n",
    "grid_search.fit(X_train, y_train)\n",
    "\n",
    "kernel = grid_search.best_params_['kernel']\n",
    "C = grid_search.best_params_['C']\n",
    "gamma = grid_search.best_params_['gamma']\n",
    "svm_clf = svm_clf.set_params(kernel=kernel, C=C, gamma=gamma)\n",
    "svm_clf.fit(X_train, y_train)\n",
    "\n",
    "print \"Model's final F1 score (for test set): {}\".format(predict_labels(svm_clf, X_test, y_test, False)[0])"
   ]
  }
 ],
 "metadata": {
  "kernelspec": {
   "display_name": "Python 2",
   "language": "python",
   "name": "python2"
  },
  "language_info": {
   "codemirror_mode": {
    "name": "ipython",
    "version": 2
   },
   "file_extension": ".py",
   "mimetype": "text/x-python",
   "name": "python",
   "nbconvert_exporter": "python",
   "pygments_lexer": "ipython2",
   "version": "2.7.11"
  }
 },
 "nbformat": 4,
 "nbformat_minor": 0
}
