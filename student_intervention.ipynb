{
 "cells": [
  {
   "cell_type": "markdown",
   "metadata": {},
   "source": [
    "# Project 2: Supervised Learning\n",
    "### Building a Student Intervention System"
   ]
  },
  {
   "cell_type": "markdown",
   "metadata": {},
   "source": [
    "## 1. Classification vs Regression\n",
    "\n",
    "Your goal is to identify students who might need early intervention - which type of supervised machine learning problem is this, classification or regression? Why?\n",
    "\n",
    "This is a classification problem.  We need to give a students a label: needs early intervention or doesn't need early intervention.  Those problems in which there are a finite number of possible outputs and they cannot be ordered are classification problems.  Regression problems involve continuous outputs or, at least, ordinal outputs."
   ]
  },
  {
   "cell_type": "markdown",
   "metadata": {},
   "source": [
    "## 2. Exploring the Data\n",
    "\n",
    "Let's go ahead and read in the student dataset first.\n",
    "\n",
    "_To execute a code cell, click inside it and press **Shift+Enter**._"
   ]
  },
  {
   "cell_type": "code",
   "execution_count": 15,
   "metadata": {
    "collapsed": false
   },
   "outputs": [],
   "source": [
    "# Import libraries\n",
    "import numpy as np\n",
    "import pandas as pd\n",
    "from sklearn.cross_validation import train_test_split"
   ]
  },
  {
   "cell_type": "code",
   "execution_count": 2,
   "metadata": {
    "collapsed": false
   },
   "outputs": [
    {
     "name": "stdout",
     "output_type": "stream",
     "text": [
      "Student data read successfully!\n"
     ]
    }
   ],
   "source": [
    "# Read student data\n",
    "student_data = pd.read_csv(\"student-data.csv\")\n",
    "print \"Student data read successfully!\""
   ]
  },
  {
   "cell_type": "markdown",
   "metadata": {},
   "source": [
    "Now, can you find out the following facts about the dataset?\n",
    "- Total number of students\n",
    "- Number of students who passed\n",
    "- Number of students who failed\n",
    "- Graduation rate of the class (%)\n",
    "- Number of features"
   ]
  },
  {
   "cell_type": "code",
   "execution_count": 10,
   "metadata": {
    "collapsed": false,
    "scrolled": true
   },
   "outputs": [
    {
     "name": "stdout",
     "output_type": "stream",
     "text": [
      "Total number of students: 395\n",
      "Number of students who passed: 265\n",
      "Number of students who failed: 130\n",
      "Number of features: 30\n",
      "Graduation rate of the class: 67.09%\n"
     ]
    }
   ],
   "source": [
    "n_students = len(student_data)\n",
    "n_features = len(student_data.columns) - 1\n",
    "n_passed = sum(student_data['passed'] == 'yes')\n",
    "n_failed = sum(student_data['passed'] == 'no')\n",
    "grad_rate = 100.0 * n_passed / n_students\n",
    "print \"Total number of students: {}\".format(n_students)\n",
    "print \"Number of students who passed: {}\".format(n_passed)\n",
    "print \"Number of students who failed: {}\".format(n_failed)\n",
    "print \"Number of features: {}\".format(n_features)\n",
    "print \"Graduation rate of the class: {:.2f}%\".format(grad_rate)"
   ]
  },
  {
   "cell_type": "markdown",
   "metadata": {},
   "source": [
    "## 3. Preparing the Data\n",
    "In this section, we will prepare the data for modeling, training and testing.\n",
    "\n",
    "### Identify feature and target columns\n",
    "It is often the case that the data you obtain contains non-numeric features. This can be a problem, as most machine learning algorithms expect numeric data to perform computations with.\n",
    "\n",
    "Let's first separate our data into feature and target columns, and see if any features are non-numeric.<br/>\n",
    "**Note**: For this dataset, the last column (`'passed'`) is the target or label we are trying to predict."
   ]
  },
  {
   "cell_type": "code",
   "execution_count": 11,
   "metadata": {
    "collapsed": false
   },
   "outputs": [
    {
     "name": "stdout",
     "output_type": "stream",
     "text": [
      "Feature column(s):-\n",
      "['school', 'sex', 'age', 'address', 'famsize', 'Pstatus', 'Medu', 'Fedu', 'Mjob', 'Fjob', 'reason', 'guardian', 'traveltime', 'studytime', 'failures', 'schoolsup', 'famsup', 'paid', 'activities', 'nursery', 'higher', 'internet', 'romantic', 'famrel', 'freetime', 'goout', 'Dalc', 'Walc', 'health', 'absences']\n",
      "Target column: passed\n",
      "\n",
      "Feature values:-\n",
      "  school sex  age address famsize Pstatus  Medu  Fedu     Mjob      Fjob  \\\n",
      "0     GP   F   18       U     GT3       A     4     4  at_home   teacher   \n",
      "1     GP   F   17       U     GT3       T     1     1  at_home     other   \n",
      "2     GP   F   15       U     LE3       T     1     1  at_home     other   \n",
      "3     GP   F   15       U     GT3       T     4     2   health  services   \n",
      "4     GP   F   16       U     GT3       T     3     3    other     other   \n",
      "\n",
      "    ...    higher internet  romantic  famrel  freetime goout Dalc Walc health  \\\n",
      "0   ...       yes       no        no       4         3     4    1    1      3   \n",
      "1   ...       yes      yes        no       5         3     3    1    1      3   \n",
      "2   ...       yes      yes        no       4         3     2    2    3      3   \n",
      "3   ...       yes      yes       yes       3         2     2    1    1      5   \n",
      "4   ...       yes       no        no       4         3     2    1    2      5   \n",
      "\n",
      "  absences  \n",
      "0        6  \n",
      "1        4  \n",
      "2       10  \n",
      "3        2  \n",
      "4        4  \n",
      "\n",
      "[5 rows x 30 columns]\n"
     ]
    }
   ],
   "source": [
    "# Extract feature (X) and target (y) columns\n",
    "feature_cols = list(student_data.columns[:-1])  # all columns but last are features\n",
    "target_col = student_data.columns[-1]  # last column is the target/label\n",
    "print \"Feature column(s):-\\n{}\".format(feature_cols)\n",
    "print \"Target column: {}\".format(target_col)\n",
    "\n",
    "X_all = student_data[feature_cols]  # feature values for all students\n",
    "y_all = student_data[target_col]  # corresponding targets/labels\n",
    "print \"\\nFeature values:-\"\n",
    "print X_all.head()  # print the first 5 rows"
   ]
  },
  {
   "cell_type": "markdown",
   "metadata": {},
   "source": [
    "### Preprocess feature columns\n",
    "\n",
    "As you can see, there are several non-numeric columns that need to be converted! Many of them are simply `yes`/`no`, e.g. `internet`. These can be reasonably converted into `1`/`0` (binary) values.\n",
    "\n",
    "Other columns, like `Mjob` and `Fjob`, have more than two values, and are known as _categorical variables_. The recommended way to handle such a column is to create as many columns as possible values (e.g. `Fjob_teacher`, `Fjob_other`, `Fjob_services`, etc.), and assign a `1` to one of them and `0` to all others.\n",
    "\n",
    "These generated columns are sometimes called _dummy variables_, and we will use the [`pandas.get_dummies()`](http://pandas.pydata.org/pandas-docs/stable/generated/pandas.get_dummies.html?highlight=get_dummies#pandas.get_dummies) function to perform this transformation."
   ]
  },
  {
   "cell_type": "code",
   "execution_count": 12,
   "metadata": {
    "collapsed": false
   },
   "outputs": [
    {
     "name": "stdout",
     "output_type": "stream",
     "text": [
      "Processed feature columns (48):-\n",
      "['school_GP', 'school_MS', 'sex_F', 'sex_M', 'age', 'address_R', 'address_U', 'famsize_GT3', 'famsize_LE3', 'Pstatus_A', 'Pstatus_T', 'Medu', 'Fedu', 'Mjob_at_home', 'Mjob_health', 'Mjob_other', 'Mjob_services', 'Mjob_teacher', 'Fjob_at_home', 'Fjob_health', 'Fjob_other', 'Fjob_services', 'Fjob_teacher', 'reason_course', 'reason_home', 'reason_other', 'reason_reputation', 'guardian_father', 'guardian_mother', 'guardian_other', 'traveltime', 'studytime', 'failures', 'schoolsup', 'famsup', 'paid', 'activities', 'nursery', 'higher', 'internet', 'romantic', 'famrel', 'freetime', 'goout', 'Dalc', 'Walc', 'health', 'absences']\n"
     ]
    }
   ],
   "source": [
    "# Preprocess feature columns\n",
    "def preprocess_features(X):\n",
    "    outX = pd.DataFrame(index=X.index)  # output dataframe, initially empty\n",
    "\n",
    "    # Check each column\n",
    "    for col, col_data in X.iteritems():\n",
    "        # If data type is non-numeric, try to replace all yes/no values with 1/0\n",
    "        if col_data.dtype == object:\n",
    "            col_data = col_data.replace(['yes', 'no'], [1, 0])\n",
    "        # Note: This should change the data type for yes/no columns to int\n",
    "\n",
    "        # If still non-numeric, convert to one or more dummy variables\n",
    "        if col_data.dtype == object:\n",
    "            col_data = pd.get_dummies(col_data, prefix=col)  # e.g. 'school' => 'school_GP', 'school_MS'\n",
    "\n",
    "        outX = outX.join(col_data)  # collect column(s) in output dataframe\n",
    "\n",
    "    return outX\n",
    "\n",
    "X_all = preprocess_features(X_all)\n",
    "print \"Processed feature columns ({}):-\\n{}\".format(len(X_all.columns), list(X_all.columns))"
   ]
  },
  {
   "cell_type": "markdown",
   "metadata": {},
   "source": [
    "### Split data into training and test sets\n",
    "\n",
    "So far, we have converted all _categorical_ features into numeric values. In this next step, we split the data (both features and corresponding labels) into training and test sets."
   ]
  },
  {
   "cell_type": "code",
   "execution_count": 17,
   "metadata": {
    "collapsed": false
   },
   "outputs": [
    {
     "name": "stdout",
     "output_type": "stream",
     "text": [
      "Training set: 300 samples\n",
      "Test set: 95 samples\n"
     ]
    }
   ],
   "source": [
    "# First, decide how many training vs test samples you want\n",
    "num_all = student_data.shape[0]  # same as len(student_data)\n",
    "num_train = 300  # about 75% of the data\n",
    "num_test = num_all - num_train\n",
    "\n",
    "# TODO: Then, select features (X) and corresponding labels (y) for the training and test sets\n",
    "# Note: Shuffle the data or randomly select samples to avoid any bias due to ordering in the dataset\n",
    "X_train, X_test, y_train, y_test = train_test_split(X_all, y_all, test_size=num_test)\n",
    "print \"Training set: {} samples\".format(X_train.shape[0])\n",
    "print \"Test set: {} samples\".format(X_test.shape[0])\n",
    "# Note: If you need a validation set, extract it from within training data"
   ]
  },
  {
   "cell_type": "markdown",
   "metadata": {},
   "source": [
    "## 4. Training and Evaluating Models\n",
    "Choose 3 supervised learning models that are available in scikit-learn, and appropriate for this problem. For each model:\n",
    "\n",
    "- What are the general applications of this model? What are its strengths and weaknesses?\n",
    "- Given what you know about the data so far, why did you choose this model to apply?\n",
    "- Fit this model to the training data, try to predict labels (for both training and test sets), and measure the F<sub>1</sub> score. Repeat this process with different training set sizes (100, 200, 300), keeping test set constant.\n",
    "\n",
    "Produce a table showing training time, prediction time, F<sub>1</sub> score on training set and F<sub>1</sub> score on test set, for each training set size.\n",
    "\n",
    "Note: You need to produce 3 such tables - one for each model."
   ]
  },
  {
   "cell_type": "markdown",
   "metadata": {},
   "source": [
    "### Decision Tree\n",
    "\n",
    "- Decision trees can be used for classification problems.\n",
    "    - Strengths\n",
    "        - Easy to use\n",
    "        - Easy to interpret graphically\n",
    "    - Weaknesses \n",
    "        - Prone to overfitting\n",
    "- A decision tree is a good model to try for this problem since decision tree outputs are humanly comprehensible and could identify specific causes of student failure."
   ]
  },
  {
   "cell_type": "code",
   "execution_count": 21,
   "metadata": {
    "collapsed": false
   },
   "outputs": [
    {
     "name": "stdout",
     "output_type": "stream",
     "text": [
      "Training DecisionTreeClassifier...\n",
      "Done!\n",
      "Training time (secs): 0.002\n"
     ]
    }
   ],
   "source": [
    "# Train a model\n",
    "import time\n",
    "\n",
    "def train_classifier(clf, X_train, y_train):\n",
    "    print \"Training {}...\".format(clf.__class__.__name__)\n",
    "    start = time.time()\n",
    "    clf.fit(X_train, y_train)\n",
    "    end = time.time()\n",
    "    print \"Done!\\nTraining time (secs): {:.3f}\".format(end - start)\n",
    "\n",
    "# TODO: Choose a model, import it and instantiate an object\n",
    "from sklearn.tree import DecisionTreeClassifier\n",
    "clf = DecisionTreeClassifier()\n",
    "\n",
    "# Fit model to training data\n",
    "train_classifier(clf, X_train, y_train)  # note: using entire training set here\n",
    "#print clf  # you can inspect the learned model by printing it"
   ]
  },
  {
   "cell_type": "code",
   "execution_count": 22,
   "metadata": {
    "collapsed": false
   },
   "outputs": [
    {
     "name": "stdout",
     "output_type": "stream",
     "text": [
      "Predicting labels using DecisionTreeClassifier...\n",
      "Done!\n",
      "Prediction time (secs): 0.001\n",
      "F1 score for training set: 1.0\n"
     ]
    }
   ],
   "source": [
    "# Predict on training set and compute F1 score\n",
    "from sklearn.metrics import f1_score\n",
    "\n",
    "def predict_labels(clf, features, target):\n",
    "    print \"Predicting labels using {}...\".format(clf.__class__.__name__)\n",
    "    start = time.time()\n",
    "    y_pred = clf.predict(features)\n",
    "    end = time.time()\n",
    "    print \"Done!\\nPrediction time (secs): {:.3f}\".format(end - start)\n",
    "    return f1_score(target.values, y_pred, pos_label='yes')\n",
    "\n",
    "train_f1_score = predict_labels(clf, X_train, y_train)\n",
    "print \"F1 score for training set: {}\".format(train_f1_score)"
   ]
  },
  {
   "cell_type": "code",
   "execution_count": 23,
   "metadata": {
    "collapsed": false
   },
   "outputs": [
    {
     "name": "stdout",
     "output_type": "stream",
     "text": [
      "Predicting labels using DecisionTreeClassifier...\n",
      "Done!\n",
      "Prediction time (secs): 0.000\n",
      "F1 score for test set: 0.697674418605\n"
     ]
    }
   ],
   "source": [
    "# Predict on test data\n",
    "print \"F1 score for test set: {}\".format(predict_labels(clf, X_test, y_test))"
   ]
  },
  {
   "cell_type": "code",
   "execution_count": 41,
   "metadata": {
    "collapsed": false
   },
   "outputs": [
    {
     "name": "stdout",
     "output_type": "stream",
     "text": [
      "<class 'pandas.core.frame.DataFrame'>\n",
      "<class 'pandas.core.series.Series'>\n",
      "------------------------------------------\n",
      "Training set size: 100\n",
      "Training DecisionTreeClassifier...\n"
     ]
    },
    {
     "ename": "ValueError",
     "evalue": "Unknown label type: array([[<pandas.core.indexing._iLocIndexer object at 0x113458350>],\n       [<pandas.core.indexing._iLocIndexer object at 0x113458350>],\n       [<pandas.core.indexing._iLocIndexer object at 0x113458350>],\n       [<pandas.core.indexing._iLocIndexer object at 0x113458350>],\n       [<pandas.core.indexing._iLocIndexer object at 0x113458350>],\n       [<pandas.core.indexing._iLocIndexer object at 0x113458350>],\n       [<pandas.core.indexing._iLocIndexer object at 0x113458350>],\n       [<pandas.core.indexing._iLocIndexer object at 0x113458350>],\n       [<pandas.core.indexing._iLocIndexer object at 0x113458350>],\n       [<pandas.core.indexing._iLocIndexer object at 0x113458350>],\n       [<pandas.core.indexing._iLocIndexer object at 0x113458350>],\n       [<pandas.core.indexing._iLocIndexer object at 0x113458350>],\n       [<pandas.core.indexing._iLocIndexer object at 0x113458350>],\n       [<pandas.core.indexing._iLocIndexer object at 0x113458350>],\n       [<pandas.core.indexing._iLocIndexer object at 0x113458350>],\n       [<pandas.core.indexing._iLocIndexer object at 0x113458350>],\n       [<pandas.core.indexing._iLocIndexer object at 0x113458350>],\n       [<pandas.core.indexing._iLocIndexer object at 0x113458350>],\n       [<pandas.core.indexing._iLocIndexer object at 0x113458350>],\n       [<pandas.core.indexing._iLocIndexer object at 0x113458350>],\n       [<pandas.core.indexing._iLocIndexer object at 0x113458350>],\n       [<pandas.core.indexing._iLocIndexer object at 0x113458350>],\n       [<pandas.core.indexing._iLocIndexer object at 0x113458350>],\n       [<pandas.core.indexing._iLocIndexer object at 0x113458350>],\n       [<pandas.core.indexing._iLocIndexer object at 0x113458350>],\n       [<pandas.core.indexing._iLocIndexer object at 0x113458350>],\n       [<pandas.core.indexing._iLocIndexer object at 0x113458350>],\n       [<pandas.core.indexing._iLocIndexer object at 0x113458350>],\n       [<pandas.core.indexing._iLocIndexer object at 0x113458350>],\n       [<pandas.core.indexing._iLocIndexer object at 0x113458350>],\n       [<pandas.core.indexing._iLocIndexer object at 0x113458350>],\n       [<pandas.core.indexing._iLocIndexer object at 0x113458350>],\n       [<pandas.core.indexing._iLocIndexer object at 0x113458350>],\n       [<pandas.core.indexing._iLocIndexer object at 0x113458350>],\n       [<pandas.core.indexing._iLocIndexer object at 0x113458350>],\n       [<pandas.core.indexing._iLocIndexer object at 0x113458350>],\n       [<pandas.core.indexing._iLocIndexer object at 0x113458350>],\n       [<pandas.core.indexing._iLocIndexer object at 0x113458350>],\n       [<pandas.core.indexing._iLocIndexer object at 0x113458350>],\n       [<pandas.core.indexing._iLocIndexer object at 0x113458350>],\n       [<pandas.core.indexing._iLocIndexer object at 0x113458350>],\n       [<pandas.core.indexing._iLocIndexer object at 0x113458350>],\n       [<pandas.core.indexing._iLocIndexer object at 0x113458350>],\n       [<pandas.core.indexing._iLocIndexer object at 0x113458350>],\n       [<pandas.core.indexing._iLocIndexer object at 0x113458350>],\n       [<pandas.core.indexing._iLocIndexer object at 0x113458350>],\n       [<pandas.core.indexing._iLocIndexer object at 0x113458350>],\n       [<pandas.core.indexing._iLocIndexer object at 0x113458350>],\n       [<pandas.core.indexing._iLocIndexer object at 0x113458350>],\n       [<pandas.core.indexing._iLocIndexer object at 0x113458350>],\n       [<pandas.core.indexing._iLocIndexer object at 0x113458350>],\n       [<pandas.core.indexing._iLocIndexer object at 0x113458350>],\n       [<pandas.core.indexing._iLocIndexer object at 0x113458350>],\n       [<pandas.core.indexing._iLocIndexer object at 0x113458350>],\n       [<pandas.core.indexing._iLocIndexer object at 0x113458350>],\n       [<pandas.core.indexing._iLocIndexer object at 0x113458350>],\n       [<pandas.core.indexing._iLocIndexer object at 0x113458350>],\n       [<pandas.core.indexing._iLocIndexer object at 0x113458350>],\n       [<pandas.core.indexing._iLocIndexer object at 0x113458350>],\n       [<pandas.core.indexing._iLocIndexer object at 0x113458350>],\n       [<pandas.core.indexing._iLocIndexer object at 0x113458350>],\n       [<pandas.core.indexing._iLocIndexer object at 0x113458350>],\n       [<pandas.core.indexing._iLocIndexer object at 0x113458350>],\n       [<pandas.core.indexing._iLocIndexer object at 0x113458350>],\n       [<pandas.core.indexing._iLocIndexer object at 0x113458350>],\n       [<pandas.core.indexing._iLocIndexer object at 0x113458350>],\n       [<pandas.core.indexing._iLocIndexer object at 0x113458350>],\n       [<pandas.core.indexing._iLocIndexer object at 0x113458350>],\n       [<pandas.core.indexing._iLocIndexer object at 0x113458350>],\n       [<pandas.core.indexing._iLocIndexer object at 0x113458350>],\n       [<pandas.core.indexing._iLocIndexer object at 0x113458350>],\n       [<pandas.core.indexing._iLocIndexer object at 0x113458350>],\n       [<pandas.core.indexing._iLocIndexer object at 0x113458350>],\n       [<pandas.core.indexing._iLocIndexer object at 0x113458350>],\n       [<pandas.core.indexing._iLocIndexer object at 0x113458350>],\n       [<pandas.core.indexing._iLocIndexer object at 0x113458350>],\n       [<pandas.core.indexing._iLocIndexer object at 0x113458350>],\n       [<pandas.core.indexing._iLocIndexer object at 0x113458350>],\n       [<pandas.core.indexing._iLocIndexer object at 0x113458350>],\n       [<pandas.core.indexing._iLocIndexer object at 0x113458350>],\n       [<pandas.core.indexing._iLocIndexer object at 0x113458350>],\n       [<pandas.core.indexing._iLocIndexer object at 0x113458350>],\n       [<pandas.core.indexing._iLocIndexer object at 0x113458350>],\n       [<pandas.core.indexing._iLocIndexer object at 0x113458350>],\n       [<pandas.core.indexing._iLocIndexer object at 0x113458350>],\n       [<pandas.core.indexing._iLocIndexer object at 0x113458350>],\n       [<pandas.core.indexing._iLocIndexer object at 0x113458350>],\n       [<pandas.core.indexing._iLocIndexer object at 0x113458350>],\n       [<pandas.core.indexing._iLocIndexer object at 0x113458350>],\n       [<pandas.core.indexing._iLocIndexer object at 0x113458350>],\n       [<pandas.core.indexing._iLocIndexer object at 0x113458350>],\n       [<pandas.core.indexing._iLocIndexer object at 0x113458350>],\n       [<pandas.core.indexing._iLocIndexer object at 0x113458350>],\n       [<pandas.core.indexing._iLocIndexer object at 0x113458350>],\n       [<pandas.core.indexing._iLocIndexer object at 0x113458350>],\n       [<pandas.core.indexing._iLocIndexer object at 0x113458350>],\n       [<pandas.core.indexing._iLocIndexer object at 0x113458350>],\n       [<pandas.core.indexing._iLocIndexer object at 0x113458350>],\n       [<pandas.core.indexing._iLocIndexer object at 0x113458350>],\n       [<pandas.core.indexing._iLocIndexer object at 0x113458350>]], dtype=object)",
     "output_type": "error",
     "traceback": [
      "\u001b[0;31m---------------------------------------------------------------------------\u001b[0m",
      "\u001b[0;31mValueError\u001b[0m                                Traceback (most recent call last)",
      "\u001b[0;32m<ipython-input-41-685fa35d26c4>\u001b[0m in \u001b[0;36m<module>\u001b[0;34m()\u001b[0m\n\u001b[1;32m     16\u001b[0m     \u001b[0msample_X_train\u001b[0m \u001b[0;34m=\u001b[0m \u001b[0mX_train\u001b[0m\u001b[0;34m.\u001b[0m\u001b[0miloc\u001b[0m\u001b[0;34m[\u001b[0m\u001b[0msample\u001b[0m\u001b[0;34m,\u001b[0m \u001b[0;34m:\u001b[0m\u001b[0;34m]\u001b[0m\u001b[0;34m\u001b[0m\u001b[0m\n\u001b[1;32m     17\u001b[0m     \u001b[0msample_y_train\u001b[0m \u001b[0;34m=\u001b[0m \u001b[0;34m[\u001b[0m\u001b[0my_train\u001b[0m\u001b[0;34m.\u001b[0m\u001b[0miloc\u001b[0m \u001b[0;32mfor\u001b[0m \u001b[0mi\u001b[0m \u001b[0;32min\u001b[0m \u001b[0msample\u001b[0m\u001b[0;34m]\u001b[0m\u001b[0;34m\u001b[0m\u001b[0m\n\u001b[0;32m---> 18\u001b[0;31m     \u001b[0mtrain_predict\u001b[0m\u001b[0;34m(\u001b[0m\u001b[0mclf\u001b[0m\u001b[0;34m,\u001b[0m \u001b[0msample_X_train\u001b[0m\u001b[0;34m,\u001b[0m \u001b[0msample_y_train\u001b[0m\u001b[0;34m,\u001b[0m \u001b[0mX_test\u001b[0m\u001b[0;34m,\u001b[0m \u001b[0my_test\u001b[0m\u001b[0;34m)\u001b[0m\u001b[0;34m\u001b[0m\u001b[0m\n\u001b[0m",
      "\u001b[0;32m<ipython-input-41-685fa35d26c4>\u001b[0m in \u001b[0;36mtrain_predict\u001b[0;34m(clf, X_train, y_train, X_test, y_test)\u001b[0m\n\u001b[1;32m      3\u001b[0m     \u001b[0;32mprint\u001b[0m \u001b[0;34m\"------------------------------------------\"\u001b[0m\u001b[0;34m\u001b[0m\u001b[0m\n\u001b[1;32m      4\u001b[0m     \u001b[0;32mprint\u001b[0m \u001b[0;34m\"Training set size: {}\"\u001b[0m\u001b[0;34m.\u001b[0m\u001b[0mformat\u001b[0m\u001b[0;34m(\u001b[0m\u001b[0mlen\u001b[0m\u001b[0;34m(\u001b[0m\u001b[0mX_train\u001b[0m\u001b[0;34m)\u001b[0m\u001b[0;34m)\u001b[0m\u001b[0;34m\u001b[0m\u001b[0m\n\u001b[0;32m----> 5\u001b[0;31m     \u001b[0mtrain_classifier\u001b[0m\u001b[0;34m(\u001b[0m\u001b[0mclf\u001b[0m\u001b[0;34m,\u001b[0m \u001b[0mX_train\u001b[0m\u001b[0;34m,\u001b[0m \u001b[0my_train\u001b[0m\u001b[0;34m)\u001b[0m\u001b[0;34m\u001b[0m\u001b[0m\n\u001b[0m\u001b[1;32m      6\u001b[0m     \u001b[0;32mprint\u001b[0m \u001b[0;34m\"F1 score for training set: {}\"\u001b[0m\u001b[0;34m.\u001b[0m\u001b[0mformat\u001b[0m\u001b[0;34m(\u001b[0m\u001b[0mpredict_labels\u001b[0m\u001b[0;34m(\u001b[0m\u001b[0mclf\u001b[0m\u001b[0;34m,\u001b[0m \u001b[0mX_train\u001b[0m\u001b[0;34m,\u001b[0m \u001b[0my_train\u001b[0m\u001b[0;34m)\u001b[0m\u001b[0;34m)\u001b[0m\u001b[0;34m\u001b[0m\u001b[0m\n\u001b[1;32m      7\u001b[0m     \u001b[0;32mprint\u001b[0m \u001b[0;34m\"F1 score for test set: {}\"\u001b[0m\u001b[0;34m.\u001b[0m\u001b[0mformat\u001b[0m\u001b[0;34m(\u001b[0m\u001b[0mpredict_labels\u001b[0m\u001b[0;34m(\u001b[0m\u001b[0mclf\u001b[0m\u001b[0;34m,\u001b[0m \u001b[0mX_test\u001b[0m\u001b[0;34m,\u001b[0m \u001b[0my_test\u001b[0m\u001b[0;34m)\u001b[0m\u001b[0;34m)\u001b[0m\u001b[0;34m\u001b[0m\u001b[0m\n",
      "\u001b[0;32m<ipython-input-21-21efadc4b242>\u001b[0m in \u001b[0;36mtrain_classifier\u001b[0;34m(clf, X_train, y_train)\u001b[0m\n\u001b[1;32m      5\u001b[0m     \u001b[0;32mprint\u001b[0m \u001b[0;34m\"Training {}...\"\u001b[0m\u001b[0;34m.\u001b[0m\u001b[0mformat\u001b[0m\u001b[0;34m(\u001b[0m\u001b[0mclf\u001b[0m\u001b[0;34m.\u001b[0m\u001b[0m__class__\u001b[0m\u001b[0;34m.\u001b[0m\u001b[0m__name__\u001b[0m\u001b[0;34m)\u001b[0m\u001b[0;34m\u001b[0m\u001b[0m\n\u001b[1;32m      6\u001b[0m     \u001b[0mstart\u001b[0m \u001b[0;34m=\u001b[0m \u001b[0mtime\u001b[0m\u001b[0;34m.\u001b[0m\u001b[0mtime\u001b[0m\u001b[0;34m(\u001b[0m\u001b[0;34m)\u001b[0m\u001b[0;34m\u001b[0m\u001b[0m\n\u001b[0;32m----> 7\u001b[0;31m     \u001b[0mclf\u001b[0m\u001b[0;34m.\u001b[0m\u001b[0mfit\u001b[0m\u001b[0;34m(\u001b[0m\u001b[0mX_train\u001b[0m\u001b[0;34m,\u001b[0m \u001b[0my_train\u001b[0m\u001b[0;34m)\u001b[0m\u001b[0;34m\u001b[0m\u001b[0m\n\u001b[0m\u001b[1;32m      8\u001b[0m     \u001b[0mend\u001b[0m \u001b[0;34m=\u001b[0m \u001b[0mtime\u001b[0m\u001b[0;34m.\u001b[0m\u001b[0mtime\u001b[0m\u001b[0;34m(\u001b[0m\u001b[0;34m)\u001b[0m\u001b[0;34m\u001b[0m\u001b[0m\n\u001b[1;32m      9\u001b[0m     \u001b[0;32mprint\u001b[0m \u001b[0;34m\"Done!\\nTraining time (secs): {:.3f}\"\u001b[0m\u001b[0;34m.\u001b[0m\u001b[0mformat\u001b[0m\u001b[0;34m(\u001b[0m\u001b[0mend\u001b[0m \u001b[0;34m-\u001b[0m \u001b[0mstart\u001b[0m\u001b[0;34m)\u001b[0m\u001b[0;34m\u001b[0m\u001b[0m\n",
      "\u001b[0;32m/Users/paulreiners/anaconda/lib/python2.7/site-packages/sklearn/tree/tree.pyc\u001b[0m in \u001b[0;36mfit\u001b[0;34m(self, X, y, sample_weight, check_input, X_idx_sorted)\u001b[0m\n\u001b[1;32m    175\u001b[0m \u001b[0;34m\u001b[0m\u001b[0m\n\u001b[1;32m    176\u001b[0m         \u001b[0;32mif\u001b[0m \u001b[0mis_classification\u001b[0m\u001b[0;34m:\u001b[0m\u001b[0;34m\u001b[0m\u001b[0m\n\u001b[0;32m--> 177\u001b[0;31m             \u001b[0mcheck_classification_targets\u001b[0m\u001b[0;34m(\u001b[0m\u001b[0my\u001b[0m\u001b[0;34m)\u001b[0m\u001b[0;34m\u001b[0m\u001b[0m\n\u001b[0m\u001b[1;32m    178\u001b[0m             \u001b[0my\u001b[0m \u001b[0;34m=\u001b[0m \u001b[0mnp\u001b[0m\u001b[0;34m.\u001b[0m\u001b[0mcopy\u001b[0m\u001b[0;34m(\u001b[0m\u001b[0my\u001b[0m\u001b[0;34m)\u001b[0m\u001b[0;34m\u001b[0m\u001b[0m\n\u001b[1;32m    179\u001b[0m \u001b[0;34m\u001b[0m\u001b[0m\n",
      "\u001b[0;32m/Users/paulreiners/anaconda/lib/python2.7/site-packages/sklearn/utils/multiclass.pyc\u001b[0m in \u001b[0;36mcheck_classification_targets\u001b[0;34m(y)\u001b[0m\n\u001b[1;32m    171\u001b[0m     if y_type not in ['binary', 'multiclass', 'multiclass-multioutput', \n\u001b[1;32m    172\u001b[0m             'multilabel-indicator', 'multilabel-sequences']:\n\u001b[0;32m--> 173\u001b[0;31m         \u001b[0;32mraise\u001b[0m \u001b[0mValueError\u001b[0m\u001b[0;34m(\u001b[0m\u001b[0;34m\"Unknown label type: %r\"\u001b[0m \u001b[0;34m%\u001b[0m \u001b[0my\u001b[0m\u001b[0;34m)\u001b[0m\u001b[0;34m\u001b[0m\u001b[0m\n\u001b[0m\u001b[1;32m    174\u001b[0m \u001b[0;34m\u001b[0m\u001b[0m\n\u001b[1;32m    175\u001b[0m \u001b[0;34m\u001b[0m\u001b[0m\n",
      "\u001b[0;31mValueError\u001b[0m: Unknown label type: array([[<pandas.core.indexing._iLocIndexer object at 0x113458350>],\n       [<pandas.core.indexing._iLocIndexer object at 0x113458350>],\n       [<pandas.core.indexing._iLocIndexer object at 0x113458350>],\n       [<pandas.core.indexing._iLocIndexer object at 0x113458350>],\n       [<pandas.core.indexing._iLocIndexer object at 0x113458350>],\n       [<pandas.core.indexing._iLocIndexer object at 0x113458350>],\n       [<pandas.core.indexing._iLocIndexer object at 0x113458350>],\n       [<pandas.core.indexing._iLocIndexer object at 0x113458350>],\n       [<pandas.core.indexing._iLocIndexer object at 0x113458350>],\n       [<pandas.core.indexing._iLocIndexer object at 0x113458350>],\n       [<pandas.core.indexing._iLocIndexer object at 0x113458350>],\n       [<pandas.core.indexing._iLocIndexer object at 0x113458350>],\n       [<pandas.core.indexing._iLocIndexer object at 0x113458350>],\n       [<pandas.core.indexing._iLocIndexer object at 0x113458350>],\n       [<pandas.core.indexing._iLocIndexer object at 0x113458350>],\n       [<pandas.core.indexing._iLocIndexer object at 0x113458350>],\n       [<pandas.core.indexing._iLocIndexer object at 0x113458350>],\n       [<pandas.core.indexing._iLocIndexer object at 0x113458350>],\n       [<pandas.core.indexing._iLocIndexer object at 0x113458350>],\n       [<pandas.core.indexing._iLocIndexer object at 0x113458350>],\n       [<pandas.core.indexing._iLocIndexer object at 0x113458350>],\n       [<pandas.core.indexing._iLocIndexer object at 0x113458350>],\n       [<pandas.core.indexing._iLocIndexer object at 0x113458350>],\n       [<pandas.core.indexing._iLocIndexer object at 0x113458350>],\n       [<pandas.core.indexing._iLocIndexer object at 0x113458350>],\n       [<pandas.core.indexing._iLocIndexer object at 0x113458350>],\n       [<pandas.core.indexing._iLocIndexer object at 0x113458350>],\n       [<pandas.core.indexing._iLocIndexer object at 0x113458350>],\n       [<pandas.core.indexing._iLocIndexer object at 0x113458350>],\n       [<pandas.core.indexing._iLocIndexer object at 0x113458350>],\n       [<pandas.core.indexing._iLocIndexer object at 0x113458350>],\n       [<pandas.core.indexing._iLocIndexer object at 0x113458350>],\n       [<pandas.core.indexing._iLocIndexer object at 0x113458350>],\n       [<pandas.core.indexing._iLocIndexer object at 0x113458350>],\n       [<pandas.core.indexing._iLocIndexer object at 0x113458350>],\n       [<pandas.core.indexing._iLocIndexer object at 0x113458350>],\n       [<pandas.core.indexing._iLocIndexer object at 0x113458350>],\n       [<pandas.core.indexing._iLocIndexer object at 0x113458350>],\n       [<pandas.core.indexing._iLocIndexer object at 0x113458350>],\n       [<pandas.core.indexing._iLocIndexer object at 0x113458350>],\n       [<pandas.core.indexing._iLocIndexer object at 0x113458350>],\n       [<pandas.core.indexing._iLocIndexer object at 0x113458350>],\n       [<pandas.core.indexing._iLocIndexer object at 0x113458350>],\n       [<pandas.core.indexing._iLocIndexer object at 0x113458350>],\n       [<pandas.core.indexing._iLocIndexer object at 0x113458350>],\n       [<pandas.core.indexing._iLocIndexer object at 0x113458350>],\n       [<pandas.core.indexing._iLocIndexer object at 0x113458350>],\n       [<pandas.core.indexing._iLocIndexer object at 0x113458350>],\n       [<pandas.core.indexing._iLocIndexer object at 0x113458350>],\n       [<pandas.core.indexing._iLocIndexer object at 0x113458350>],\n       [<pandas.core.indexing._iLocIndexer object at 0x113458350>],\n       [<pandas.core.indexing._iLocIndexer object at 0x113458350>],\n       [<pandas.core.indexing._iLocIndexer object at 0x113458350>],\n       [<pandas.core.indexing._iLocIndexer object at 0x113458350>],\n       [<pandas.core.indexing._iLocIndexer object at 0x113458350>],\n       [<pandas.core.indexing._iLocIndexer object at 0x113458350>],\n       [<pandas.core.indexing._iLocIndexer object at 0x113458350>],\n       [<pandas.core.indexing._iLocIndexer object at 0x113458350>],\n       [<pandas.core.indexing._iLocIndexer object at 0x113458350>],\n       [<pandas.core.indexing._iLocIndexer object at 0x113458350>],\n       [<pandas.core.indexing._iLocIndexer object at 0x113458350>],\n       [<pandas.core.indexing._iLocIndexer object at 0x113458350>],\n       [<pandas.core.indexing._iLocIndexer object at 0x113458350>],\n       [<pandas.core.indexing._iLocIndexer object at 0x113458350>],\n       [<pandas.core.indexing._iLocIndexer object at 0x113458350>],\n       [<pandas.core.indexing._iLocIndexer object at 0x113458350>],\n       [<pandas.core.indexing._iLocIndexer object at 0x113458350>],\n       [<pandas.core.indexing._iLocIndexer object at 0x113458350>],\n       [<pandas.core.indexing._iLocIndexer object at 0x113458350>],\n       [<pandas.core.indexing._iLocIndexer object at 0x113458350>],\n       [<pandas.core.indexing._iLocIndexer object at 0x113458350>],\n       [<pandas.core.indexing._iLocIndexer object at 0x113458350>],\n       [<pandas.core.indexing._iLocIndexer object at 0x113458350>],\n       [<pandas.core.indexing._iLocIndexer object at 0x113458350>],\n       [<pandas.core.indexing._iLocIndexer object at 0x113458350>],\n       [<pandas.core.indexing._iLocIndexer object at 0x113458350>],\n       [<pandas.core.indexing._iLocIndexer object at 0x113458350>],\n       [<pandas.core.indexing._iLocIndexer object at 0x113458350>],\n       [<pandas.core.indexing._iLocIndexer object at 0x113458350>],\n       [<pandas.core.indexing._iLocIndexer object at 0x113458350>],\n       [<pandas.core.indexing._iLocIndexer object at 0x113458350>],\n       [<pandas.core.indexing._iLocIndexer object at 0x113458350>],\n       [<pandas.core.indexing._iLocIndexer object at 0x113458350>],\n       [<pandas.core.indexing._iLocIndexer object at 0x113458350>],\n       [<pandas.core.indexing._iLocIndexer object at 0x113458350>],\n       [<pandas.core.indexing._iLocIndexer object at 0x113458350>],\n       [<pandas.core.indexing._iLocIndexer object at 0x113458350>],\n       [<pandas.core.indexing._iLocIndexer object at 0x113458350>],\n       [<pandas.core.indexing._iLocIndexer object at 0x113458350>],\n       [<pandas.core.indexing._iLocIndexer object at 0x113458350>],\n       [<pandas.core.indexing._iLocIndexer object at 0x113458350>],\n       [<pandas.core.indexing._iLocIndexer object at 0x113458350>],\n       [<pandas.core.indexing._iLocIndexer object at 0x113458350>],\n       [<pandas.core.indexing._iLocIndexer object at 0x113458350>],\n       [<pandas.core.indexing._iLocIndexer object at 0x113458350>],\n       [<pandas.core.indexing._iLocIndexer object at 0x113458350>],\n       [<pandas.core.indexing._iLocIndexer object at 0x113458350>],\n       [<pandas.core.indexing._iLocIndexer object at 0x113458350>],\n       [<pandas.core.indexing._iLocIndexer object at 0x113458350>],\n       [<pandas.core.indexing._iLocIndexer object at 0x113458350>]], dtype=object)"
     ]
    }
   ],
   "source": [
    "# Train and predict using different training set sizes\n",
    "def train_predict(clf, X_train, y_train, X_test, y_test):\n",
    "    print \"------------------------------------------\"\n",
    "    print \"Training set size: {}\".format(len(X_train))\n",
    "    train_classifier(clf, X_train, y_train)\n",
    "    print \"F1 score for training set: {}\".format(predict_labels(clf, X_train, y_train))\n",
    "    print \"F1 score for test set: {}\".format(predict_labels(clf, X_test, y_test))\n",
    "\n",
    "# TODO: Run the helper function above for desired subsets of training data\n",
    "# Note: Keep the test set constant\n",
    "training_set_sizes = [100, 200, 300]\n",
    "for training_set_size in training_set_sizes:\n",
    "    sample = np.random.choice(num_train, training_set_size, replace=False)\n",
    "    print type(X_train)\n",
    "    print type(y_train)\n",
    "    sample_X_train = X_train.iloc[sample, :]\n",
    "    sample_y_train = [y_train.iloc for i in sample]\n",
    "    train_predict(clf, sample_X_train, sample_y_train, X_test, y_test)    "
   ]
  },
  {
   "cell_type": "code",
   "execution_count": null,
   "metadata": {
    "collapsed": false
   },
   "outputs": [],
   "source": [
    "# TODO: Train and predict using two other models"
   ]
  },
  {
   "cell_type": "markdown",
   "metadata": {},
   "source": [
    "## 5. Choosing the Best Model\n",
    "\n",
    "- Based on the experiments you performed earlier, in 1-2 paragraphs explain to the board of supervisors what single model you chose as the best model. Which model is generally the most appropriate based on the available data, limited resources, cost, and performance?\n",
    "- In 1-2 paragraphs explain to the board of supervisors in layman's terms how the final model chosen is supposed to work (for example if you chose a Decision Tree or Support Vector Machine, how does it make a prediction).\n",
    "- Fine-tune the model. Use Gridsearch with at least one important parameter tuned and with at least 3 settings. Use the entire training set for this.\n",
    "- What is the model's final F<sub>1</sub> score?"
   ]
  },
  {
   "cell_type": "code",
   "execution_count": null,
   "metadata": {
    "collapsed": true
   },
   "outputs": [],
   "source": [
    "# TODO: Fine-tune your model and report the best F1 score"
   ]
  }
 ],
 "metadata": {
  "kernelspec": {
   "display_name": "Python 2",
   "language": "python",
   "name": "python2"
  },
  "language_info": {
   "codemirror_mode": {
    "name": "ipython",
    "version": 2
   },
   "file_extension": ".py",
   "mimetype": "text/x-python",
   "name": "python",
   "nbconvert_exporter": "python",
   "pygments_lexer": "ipython2",
   "version": "2.7.11"
  }
 },
 "nbformat": 4,
 "nbformat_minor": 0
}
